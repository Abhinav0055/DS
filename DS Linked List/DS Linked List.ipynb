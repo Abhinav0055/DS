{
 "cells": [
  {
   "cell_type": "markdown",
   "id": "2d3fa375",
   "metadata": {},
   "source": [
    "Singly Linked list "
   ]
  },
  {
   "cell_type": "code",
   "execution_count": 2,
   "id": "811b9cad",
   "metadata": {},
   "outputs": [],
   "source": [
    "class Node:\n",
    "    def __init__(self,data):\n",
    "        self.data = data\n",
    "        self.ref = None\n",
    "\n",
    "class LinkedList:\n",
    "    def __init__(self):\n",
    "        self.head = None\n",
    "\n",
    "    def print_LL(self):\n",
    "        if self.head is None:\n",
    "            print(\"Linked list is empty!\")\n",
    "        else:\n",
    "            n = self.head\n",
    "            while n is not None:\n",
    "                print(n.data)\n",
    "                n = n.ref "
   ]
  },
  {
   "cell_type": "markdown",
   "id": "3e36c29a",
   "metadata": {},
   "source": [
    "Insertion in Singly Linked List | At the Beginning\n"
   ]
  },
  {
   "cell_type": "code",
   "execution_count": null,
   "id": "f11a1645",
   "metadata": {},
   "outputs": [],
   "source": [
    "def add_begin(self,data):\n",
    "    new_node = Node(data)\n",
    "    new_node.ref = self.head\n",
    "    self.head = new_node"
   ]
  },
  {
   "cell_type": "markdown",
   "id": "7577d4d8",
   "metadata": {},
   "source": [
    "Inserting/Adding Elements At The End Of The Linked List"
   ]
  },
  {
   "cell_type": "code",
   "execution_count": null,
   "id": "7ff69c72",
   "metadata": {},
   "outputs": [],
   "source": [
    "def add_end(self,data):\n",
    "        new_node = Node(data)\n",
    "        if self.head is None:\n",
    "            self.head = new_node\n",
    "        else:\n",
    "            n = self.head\n",
    "            while n.ref is not None:\n",
    "                n = n.ref\n",
    "            n.ref = new_node"
   ]
  },
  {
   "cell_type": "markdown",
   "id": "0fca36c9",
   "metadata": {},
   "source": [
    "Inserting/Adding Elements After The Given Node in The Linked List "
   ]
  },
  {
   "cell_type": "code",
   "execution_count": null,
   "id": "f47b7d7f",
   "metadata": {},
   "outputs": [],
   "source": [
    "def add_after(self,data,x):\n",
    "        n = self.head\n",
    "        while n is not None:\n",
    "            if x==n.data:\n",
    "                break\n",
    "            n = n.ref\n",
    "        if n is None:\n",
    "            print(\"node is not presesnt in LL\")\n",
    "        else:\n",
    "            new_node = Node(data)\n",
    "            new_node.ref = n.ref\n",
    "            n.ref = new_node"
   ]
  },
  {
   "cell_type": "markdown",
   "id": "a76ecb69",
   "metadata": {},
   "source": [
    "Inserting/Adding Elements Before The Given Node in The Linked List \n"
   ]
  },
  {
   "cell_type": "code",
   "execution_count": null,
   "id": "9a007d33",
   "metadata": {},
   "outputs": [],
   "source": [
    "def add_before(self,data,x):\n",
    "        if self.head is None:\n",
    "            print(\"Linked List is empty!\")\n",
    "            return\n",
    "        if self.head.data==x:\n",
    "            new_node = Node(data)\n",
    "            new_node.ref = self.head\n",
    "            self.head = new_node\n",
    "            return\n",
    "        n = self.head\n",
    "        while n.ref is not None:\n",
    "            if n.ref.data==x:\n",
    "                break\n",
    "            n = n.ref        \n",
    "        if n.ref is None:\n",
    "            print(\"Node is not found!\")\n",
    "        else:\n",
    "            new_node = Node(data)\n",
    "            new_node.ref = n.ref\n",
    "            n.ref = new_node     "
   ]
  },
  {
   "cell_type": "markdown",
   "id": "634ddfa1",
   "metadata": {},
   "source": [
    "Inserting/Adding Elements To The Empty Linked List"
   ]
  },
  {
   "cell_type": "code",
   "execution_count": null,
   "id": "878bf1c7",
   "metadata": {},
   "outputs": [],
   "source": [
    "def insert_empty(self,data):\n",
    "        if self.head is None:\n",
    "            new_node = Node(data)\n",
    "            self.head = new_node\n",
    "        else:\n",
    "            print(\"Linked List is not empty!\")"
   ]
  },
  {
   "cell_type": "markdown",
   "id": "8f3c3382",
   "metadata": {},
   "source": [
    "Delete The First Node in Linked List | Delete At the Beginning"
   ]
  },
  {
   "cell_type": "code",
   "execution_count": null,
   "id": "7c20daec",
   "metadata": {},
   "outputs": [],
   "source": [
    "def delete_begin(self):\n",
    "        if self.head is None:\n",
    "            print(\"Linked List is empty can't delete!\")\n",
    "        else:\n",
    "            self.head=self.head.ref"
   ]
  }
 ],
 "metadata": {
  "kernelspec": {
   "display_name": "Python 3 (ipykernel)",
   "language": "python",
   "name": "python3"
  },
  "language_info": {
   "codemirror_mode": {
    "name": "ipython",
    "version": 3
   },
   "file_extension": ".py",
   "mimetype": "text/x-python",
   "name": "python",
   "nbconvert_exporter": "python",
   "pygments_lexer": "ipython3",
   "version": "3.9.7"
  }
 },
 "nbformat": 4,
 "nbformat_minor": 5
}
